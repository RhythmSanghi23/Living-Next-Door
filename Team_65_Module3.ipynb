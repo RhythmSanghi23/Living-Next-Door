{
  "nbformat": 4,
  "nbformat_minor": 0,
  "metadata": {
    "colab": {
      "name": "Team_65_Module3.ipynb",
      "provenance": [],
      "collapsed_sections": [],
      "authorship_tag": "ABX9TyNXk8R8ykOEmgBFw6Tkyn6D",
      "include_colab_link": true
    },
    "kernelspec": {
      "name": "python3",
      "display_name": "Python 3"
    },
    "language_info": {
      "name": "python"
    }
  },
  "cells": [
    {
      "cell_type": "markdown",
      "metadata": {
        "id": "view-in-github",
        "colab_type": "text"
      },
      "source": [
        "<a href=\"https://colab.research.google.com/github/RhythmSanghi23/Living-Next-Door/blob/main/Team_65_Module3.ipynb\" target=\"_parent\"><img src=\"https://colab.research.google.com/assets/colab-badge.svg\" alt=\"Open In Colab\"/></a>"
      ]
    },
    {
      "cell_type": "code",
      "metadata": {
        "id": "bNB_6M3e5fmR"
      },
      "source": [
        "import numpy as np\n",
        "import pandas as pd\n",
        "import seaborn as sns\n",
        "import matplotlib.pyplot as plt\n"
      ],
      "execution_count": null,
      "outputs": []
    },
    {
      "cell_type": "code",
      "metadata": {
        "colab": {
          "base_uri": "https://localhost:8080/",
          "height": 424
        },
        "id": "UkNNgCRotVUT",
        "outputId": "2ffe0e2a-2ae2-4a5e-9656-6da252be30a7"
      },
      "source": [
        "# read an excel file and convert \n",
        "# into a dataframe object\n",
        "cdf = pd.DataFrame(pd.read_excel(\"South Crime Details.xlsx\"))  \n",
        "# show the dataframe\n",
        "cdf"
      ],
      "execution_count": null,
      "outputs": [
        {
          "output_type": "execute_result",
          "data": {
            "text/html": [
              "<div>\n",
              "<style scoped>\n",
              "    .dataframe tbody tr th:only-of-type {\n",
              "        vertical-align: middle;\n",
              "    }\n",
              "\n",
              "    .dataframe tbody tr th {\n",
              "        vertical-align: top;\n",
              "    }\n",
              "\n",
              "    .dataframe thead th {\n",
              "        text-align: right;\n",
              "    }\n",
              "</style>\n",
              "<table border=\"1\" class=\"dataframe\">\n",
              "  <thead>\n",
              "    <tr style=\"text-align: right;\">\n",
              "      <th></th>\n",
              "      <th>Police Station</th>\n",
              "      <th>Year</th>\n",
              "      <th>Type</th>\n",
              "      <th>Date</th>\n",
              "      <th>Time</th>\n",
              "      <th>Place</th>\n",
              "      <th>Latitude</th>\n",
              "      <th>Longitude</th>\n",
              "    </tr>\n",
              "  </thead>\n",
              "  <tbody>\n",
              "    <tr>\n",
              "      <th>0</th>\n",
              "      <td>Banashankari</td>\n",
              "      <td>2016.0</td>\n",
              "      <td>Murder</td>\n",
              "      <td>29/07/2016</td>\n",
              "      <td>21:00:00</td>\n",
              "      <td>22nd Cross, Jayanagara 6th Block Bangalore</td>\n",
              "      <td>12.933</td>\n",
              "      <td>77.5838</td>\n",
              "    </tr>\n",
              "    <tr>\n",
              "      <th>1</th>\n",
              "      <td>Banashankari</td>\n",
              "      <td>2016.0</td>\n",
              "      <td>Murder</td>\n",
              "      <td>13/11/2016</td>\n",
              "      <td>23:45:00</td>\n",
              "      <td>On the Road of 30th Cross, Opp Vinayaka textti...</td>\n",
              "      <td>12.9304</td>\n",
              "      <td>77.5498</td>\n",
              "    </tr>\n",
              "    <tr>\n",
              "      <th>2</th>\n",
              "      <td>Banashankari</td>\n",
              "      <td>2017.0</td>\n",
              "      <td>Murder</td>\n",
              "      <td>2017-10-05 00:00:00</td>\n",
              "      <td>21:00:00</td>\n",
              "      <td>No. 282, 36th Cross Jayanagara 7th Block Banga...</td>\n",
              "      <td>12.9237</td>\n",
              "      <td>77.5818</td>\n",
              "    </tr>\n",
              "    <tr>\n",
              "      <th>3</th>\n",
              "      <td>Banashankari</td>\n",
              "      <td>2017.0</td>\n",
              "      <td>Murder</td>\n",
              "      <td>19/07/2017</td>\n",
              "      <td>19:30:00</td>\n",
              "      <td>Near Transfaram, Opp Amejan, Kanakapura Main R...</td>\n",
              "      <td>12.9241</td>\n",
              "      <td>77.5769</td>\n",
              "    </tr>\n",
              "    <tr>\n",
              "      <th>4</th>\n",
              "      <td>Banashankari</td>\n",
              "      <td>2018.0</td>\n",
              "      <td>Murder</td>\n",
              "      <td>21/06/2018</td>\n",
              "      <td>23:30:00</td>\n",
              "      <td>No. 53, 2nd Floor, 8th Main 4th Block Jayanaga...</td>\n",
              "      <td>12.9244</td>\n",
              "      <td>77.5827</td>\n",
              "    </tr>\n",
              "    <tr>\n",
              "      <th>...</th>\n",
              "      <td>...</td>\n",
              "      <td>...</td>\n",
              "      <td>...</td>\n",
              "      <td>...</td>\n",
              "      <td>...</td>\n",
              "      <td>...</td>\n",
              "      <td>...</td>\n",
              "      <td>...</td>\n",
              "    </tr>\n",
              "    <tr>\n",
              "      <th>9236</th>\n",
              "      <td>V V Puram</td>\n",
              "      <td>2019.0</td>\n",
              "      <td>Assault</td>\n",
              "      <td>2019-02-09 00:00:00</td>\n",
              "      <td>21:30:00</td>\n",
              "      <td>No, 107, 3rd cross, Manjunh colony, Bsk 3rd st...</td>\n",
              "      <td>12.9316</td>\n",
              "      <td>77.562</td>\n",
              "    </tr>\n",
              "    <tr>\n",
              "      <th>9237</th>\n",
              "      <td>V V Puram</td>\n",
              "      <td>2019.0</td>\n",
              "      <td>Assault</td>\n",
              "      <td>2019-03-10 00:00:00</td>\n",
              "      <td>10:45:00</td>\n",
              "      <td>No, 33, Kaverinagar, Khriguppe,Bsk 3rd stage, ...</td>\n",
              "      <td>12.9279</td>\n",
              "      <td>77.563</td>\n",
              "    </tr>\n",
              "    <tr>\n",
              "      <th>9238</th>\n",
              "      <td>V V Puram</td>\n",
              "      <td>2019.0</td>\n",
              "      <td>Assault</td>\n",
              "      <td>15/10/2019</td>\n",
              "      <td>17:30:00</td>\n",
              "      <td>Near Mayura Bar, Bhuvneshwarinagar, Bsk 3rd st...</td>\n",
              "      <td>12.923</td>\n",
              "      <td>77.549</td>\n",
              "    </tr>\n",
              "    <tr>\n",
              "      <th>9239</th>\n",
              "      <td>V V Puram</td>\n",
              "      <td>2019.0</td>\n",
              "      <td>Assault</td>\n",
              "      <td>13/12/2019</td>\n",
              "      <td>23:30:00</td>\n",
              "      <td>No, 10/27, 4th Main, 10th cross, Srinivasanaga...</td>\n",
              "      <td>12.9337</td>\n",
              "      <td>77.5569</td>\n",
              "    </tr>\n",
              "    <tr>\n",
              "      <th>9240</th>\n",
              "      <td>V V Puram</td>\n",
              "      <td>2019.0</td>\n",
              "      <td>Assault</td>\n",
              "      <td>20/12/2019</td>\n",
              "      <td>18:00:00</td>\n",
              "      <td>No, 119, 3rd cross, 5th main,Bsk 3rd stage, be...</td>\n",
              "      <td>12.9278</td>\n",
              "      <td>77.5439</td>\n",
              "    </tr>\n",
              "  </tbody>\n",
              "</table>\n",
              "<p>9241 rows × 8 columns</p>\n",
              "</div>"
            ],
            "text/plain": [
              "     Police Station    Year  ... Latitude Longitude\n",
              "0      Banashankari  2016.0  ...   12.933   77.5838\n",
              "1      Banashankari  2016.0  ...  12.9304   77.5498\n",
              "2      Banashankari  2017.0  ...  12.9237   77.5818\n",
              "3      Banashankari  2017.0  ...  12.9241   77.5769\n",
              "4      Banashankari  2018.0  ...  12.9244   77.5827\n",
              "...             ...     ...  ...      ...       ...\n",
              "9236      V V Puram  2019.0  ...  12.9316    77.562\n",
              "9237      V V Puram  2019.0  ...  12.9279    77.563\n",
              "9238      V V Puram  2019.0  ...   12.923    77.549\n",
              "9239      V V Puram  2019.0  ...  12.9337   77.5569\n",
              "9240      V V Puram  2019.0  ...  12.9278   77.5439\n",
              "\n",
              "[9241 rows x 8 columns]"
            ]
          },
          "metadata": {},
          "execution_count": 2
        }
      ]
    },
    {
      "cell_type": "code",
      "metadata": {
        "colab": {
          "base_uri": "https://localhost:8080/"
        },
        "id": "qsy8ISVaticd",
        "outputId": "3e01bc27-40aa-4556-be2c-5d0c286b5ded"
      },
      "source": [
        "cdf.head()\n",
        "cdf.tail()\n",
        "cdf.columns\n"
      ],
      "execution_count": null,
      "outputs": [
        {
          "output_type": "execute_result",
          "data": {
            "text/plain": [
              "Index(['Police Station', 'Year', 'Type', 'Date', 'Time', 'Place', 'Latitude',\n",
              "       'Longitude'],\n",
              "      dtype='object')"
            ]
          },
          "metadata": {},
          "execution_count": 3
        }
      ]
    },
    {
      "cell_type": "code",
      "metadata": {
        "colab": {
          "base_uri": "https://localhost:8080/",
          "height": 300
        },
        "id": "k2NV2KRd9R4V",
        "outputId": "ee1f3ee5-1ceb-4fd7-edfd-827278731980"
      },
      "source": [
        "cdf.describe()"
      ],
      "execution_count": null,
      "outputs": [
        {
          "output_type": "execute_result",
          "data": {
            "text/html": [
              "<div>\n",
              "<style scoped>\n",
              "    .dataframe tbody tr th:only-of-type {\n",
              "        vertical-align: middle;\n",
              "    }\n",
              "\n",
              "    .dataframe tbody tr th {\n",
              "        vertical-align: top;\n",
              "    }\n",
              "\n",
              "    .dataframe thead th {\n",
              "        text-align: right;\n",
              "    }\n",
              "</style>\n",
              "<table border=\"1\" class=\"dataframe\">\n",
              "  <thead>\n",
              "    <tr style=\"text-align: right;\">\n",
              "      <th></th>\n",
              "      <th>Year</th>\n",
              "    </tr>\n",
              "  </thead>\n",
              "  <tbody>\n",
              "    <tr>\n",
              "      <th>count</th>\n",
              "      <td>9215.000000</td>\n",
              "    </tr>\n",
              "    <tr>\n",
              "      <th>mean</th>\n",
              "      <td>2016.925014</td>\n",
              "    </tr>\n",
              "    <tr>\n",
              "      <th>std</th>\n",
              "      <td>1.353800</td>\n",
              "    </tr>\n",
              "    <tr>\n",
              "      <th>min</th>\n",
              "      <td>2015.000000</td>\n",
              "    </tr>\n",
              "    <tr>\n",
              "      <th>25%</th>\n",
              "      <td>2016.000000</td>\n",
              "    </tr>\n",
              "    <tr>\n",
              "      <th>50%</th>\n",
              "      <td>2017.000000</td>\n",
              "    </tr>\n",
              "    <tr>\n",
              "      <th>75%</th>\n",
              "      <td>2018.000000</td>\n",
              "    </tr>\n",
              "    <tr>\n",
              "      <th>max</th>\n",
              "      <td>2019.000000</td>\n",
              "    </tr>\n",
              "  </tbody>\n",
              "</table>\n",
              "</div>"
            ],
            "text/plain": [
              "              Year\n",
              "count  9215.000000\n",
              "mean   2016.925014\n",
              "std       1.353800\n",
              "min    2015.000000\n",
              "25%    2016.000000\n",
              "50%    2017.000000\n",
              "75%    2018.000000\n",
              "max    2019.000000"
            ]
          },
          "metadata": {},
          "execution_count": 4
        }
      ]
    },
    {
      "cell_type": "code",
      "metadata": {
        "colab": {
          "base_uri": "https://localhost:8080/"
        },
        "id": "xwWpQsJ74TL3",
        "outputId": "58a0150b-05ed-4df7-880e-6366afe1bd28"
      },
      "source": [
        "cdf.dtypes"
      ],
      "execution_count": null,
      "outputs": [
        {
          "output_type": "execute_result",
          "data": {
            "text/plain": [
              "Police Station     object\n",
              "Year              float64\n",
              "Type               object\n",
              "Date               object\n",
              "Time               object\n",
              "Place              object\n",
              "Latitude           object\n",
              "Longitude          object\n",
              "dtype: object"
            ]
          },
          "metadata": {},
          "execution_count": 5
        }
      ]
    },
    {
      "cell_type": "code",
      "metadata": {
        "colab": {
          "base_uri": "https://localhost:8080/"
        },
        "id": "1o3AqAsK9d4p",
        "outputId": "647b76f9-a86e-404e-aa1a-2fa39f5ea2c1"
      },
      "source": [
        "cdf['Type'].unique()"
      ],
      "execution_count": null,
      "outputs": [
        {
          "output_type": "execute_result",
          "data": {
            "text/plain": [
              "array(['Murder', 'Attempted Murder', 'Robbery', 'Chain Snatching',\n",
              "       '2 wheeler theft', 'Ordinary Theft', '4 Wheeler Theft', 'Kidnap',\n",
              "       'Rape', 'Assault'], dtype=object)"
            ]
          },
          "metadata": {},
          "execution_count": 6
        }
      ]
    },
    {
      "cell_type": "code",
      "metadata": {
        "colab": {
          "base_uri": "https://localhost:8080/"
        },
        "id": "EE5ngHYmAeLM",
        "outputId": "f04aa747-c604-4161-e52f-f16d90fd49d2"
      },
      "source": [
        "cdf['Police Station'].unique()"
      ],
      "execution_count": null,
      "outputs": [
        {
          "output_type": "execute_result",
          "data": {
            "text/plain": [
              "array(['Banashankari', 'Basavanagudi', 'C K Achuktu', 'Girinagar',\n",
              "       'Hanumantha Nagar', 'J P Nagar', 'Jayanagar', 'K G Nagar',\n",
              "       'K S Layout', 'Konanakunte', 'Puttenahalli', 'Shankarapua',\n",
              "       'Siddapura', 'Subramanyapura', 'Thalaghtappura', 'V V Puram'],\n",
              "      dtype=object)"
            ]
          },
          "metadata": {},
          "execution_count": 8
        }
      ]
    },
    {
      "cell_type": "code",
      "metadata": {
        "id": "KOXZGgRS3e-N"
      },
      "source": [
        "cdf['Type']=cdf['Type'].map({'Murder':0,'Attempted Murder':1,'Robbery':2,'Chain Snatching':3,'2 Wheeler theft':4,'Ordinary Theft':5,'4 Wheeler Theft':6,\n",
        "                  'Kidnap':7,'Rape':8,'Assault':9})\n"
      ],
      "execution_count": null,
      "outputs": []
    },
    {
      "cell_type": "code",
      "metadata": {
        "colab": {
          "base_uri": "https://localhost:8080/"
        },
        "id": "f5YQqyGxBhZj",
        "outputId": "871d62bf-c9c5-40b1-e24f-601a1918657a"
      },
      "source": [
        "cdf.dtypes"
      ],
      "execution_count": null,
      "outputs": [
        {
          "output_type": "execute_result",
          "data": {
            "text/plain": [
              "Police Station     object\n",
              "Year              float64\n",
              "Type              float64\n",
              "Date               object\n",
              "Time               object\n",
              "Place              object\n",
              "Latitude           object\n",
              "Longitude          object\n",
              "dtype: object"
            ]
          },
          "metadata": {},
          "execution_count": 9
        }
      ]
    },
    {
      "cell_type": "code",
      "metadata": {
        "colab": {
          "base_uri": "https://localhost:8080/"
        },
        "id": "a-Y-cUIV2efq",
        "outputId": "0e10df00-876c-4d78-fdb3-87ec82c5724d"
      },
      "source": [
        "cdf.isnull().sum()"
      ],
      "execution_count": null,
      "outputs": [
        {
          "output_type": "execute_result",
          "data": {
            "text/plain": [
              "Police Station       0\n",
              "Year                26\n",
              "Type              3994\n",
              "Date                12\n",
              "Time              1282\n",
              "Place                4\n",
              "Latitude           199\n",
              "Longitude          185\n",
              "dtype: int64"
            ]
          },
          "metadata": {},
          "execution_count": 10
        }
      ]
    },
    {
      "cell_type": "code",
      "metadata": {
        "id": "33fp0ZN5IAPQ",
        "colab": {
          "base_uri": "https://localhost:8080/",
          "height": 424
        },
        "outputId": "6f4be538-e228-4ad2-d34d-6f4c7a768f66"
      },
      "source": [
        "cdf.drop_duplicates(inplace=True)\n",
        "cdf.drop(cdf.columns[[3, 4, 5]], axis = 1, inplace = True)\n",
        "cdf1=cdf\n",
        "cdf1\n"
      ],
      "execution_count": null,
      "outputs": [
        {
          "output_type": "execute_result",
          "data": {
            "text/html": [
              "<div>\n",
              "<style scoped>\n",
              "    .dataframe tbody tr th:only-of-type {\n",
              "        vertical-align: middle;\n",
              "    }\n",
              "\n",
              "    .dataframe tbody tr th {\n",
              "        vertical-align: top;\n",
              "    }\n",
              "\n",
              "    .dataframe thead th {\n",
              "        text-align: right;\n",
              "    }\n",
              "</style>\n",
              "<table border=\"1\" class=\"dataframe\">\n",
              "  <thead>\n",
              "    <tr style=\"text-align: right;\">\n",
              "      <th></th>\n",
              "      <th>Police Station</th>\n",
              "      <th>Year</th>\n",
              "      <th>Type</th>\n",
              "      <th>Latitude</th>\n",
              "      <th>Longitude</th>\n",
              "    </tr>\n",
              "  </thead>\n",
              "  <tbody>\n",
              "    <tr>\n",
              "      <th>0</th>\n",
              "      <td>Banashankari</td>\n",
              "      <td>2016.0</td>\n",
              "      <td>0.0</td>\n",
              "      <td>12.933</td>\n",
              "      <td>77.5838</td>\n",
              "    </tr>\n",
              "    <tr>\n",
              "      <th>1</th>\n",
              "      <td>Banashankari</td>\n",
              "      <td>2016.0</td>\n",
              "      <td>0.0</td>\n",
              "      <td>12.9304</td>\n",
              "      <td>77.5498</td>\n",
              "    </tr>\n",
              "    <tr>\n",
              "      <th>2</th>\n",
              "      <td>Banashankari</td>\n",
              "      <td>2017.0</td>\n",
              "      <td>0.0</td>\n",
              "      <td>12.9237</td>\n",
              "      <td>77.5818</td>\n",
              "    </tr>\n",
              "    <tr>\n",
              "      <th>3</th>\n",
              "      <td>Banashankari</td>\n",
              "      <td>2017.0</td>\n",
              "      <td>0.0</td>\n",
              "      <td>12.9241</td>\n",
              "      <td>77.5769</td>\n",
              "    </tr>\n",
              "    <tr>\n",
              "      <th>4</th>\n",
              "      <td>Banashankari</td>\n",
              "      <td>2018.0</td>\n",
              "      <td>0.0</td>\n",
              "      <td>12.9244</td>\n",
              "      <td>77.5827</td>\n",
              "    </tr>\n",
              "    <tr>\n",
              "      <th>...</th>\n",
              "      <td>...</td>\n",
              "      <td>...</td>\n",
              "      <td>...</td>\n",
              "      <td>...</td>\n",
              "      <td>...</td>\n",
              "    </tr>\n",
              "    <tr>\n",
              "      <th>9236</th>\n",
              "      <td>V V Puram</td>\n",
              "      <td>2019.0</td>\n",
              "      <td>9.0</td>\n",
              "      <td>12.9316</td>\n",
              "      <td>77.562</td>\n",
              "    </tr>\n",
              "    <tr>\n",
              "      <th>9237</th>\n",
              "      <td>V V Puram</td>\n",
              "      <td>2019.0</td>\n",
              "      <td>9.0</td>\n",
              "      <td>12.9279</td>\n",
              "      <td>77.563</td>\n",
              "    </tr>\n",
              "    <tr>\n",
              "      <th>9238</th>\n",
              "      <td>V V Puram</td>\n",
              "      <td>2019.0</td>\n",
              "      <td>9.0</td>\n",
              "      <td>12.923</td>\n",
              "      <td>77.549</td>\n",
              "    </tr>\n",
              "    <tr>\n",
              "      <th>9239</th>\n",
              "      <td>V V Puram</td>\n",
              "      <td>2019.0</td>\n",
              "      <td>9.0</td>\n",
              "      <td>12.9337</td>\n",
              "      <td>77.5569</td>\n",
              "    </tr>\n",
              "    <tr>\n",
              "      <th>9240</th>\n",
              "      <td>V V Puram</td>\n",
              "      <td>2019.0</td>\n",
              "      <td>9.0</td>\n",
              "      <td>12.9278</td>\n",
              "      <td>77.5439</td>\n",
              "    </tr>\n",
              "  </tbody>\n",
              "</table>\n",
              "<p>9238 rows × 5 columns</p>\n",
              "</div>"
            ],
            "text/plain": [
              "     Police Station    Year  Type Latitude Longitude\n",
              "0      Banashankari  2016.0   0.0   12.933   77.5838\n",
              "1      Banashankari  2016.0   0.0  12.9304   77.5498\n",
              "2      Banashankari  2017.0   0.0  12.9237   77.5818\n",
              "3      Banashankari  2017.0   0.0  12.9241   77.5769\n",
              "4      Banashankari  2018.0   0.0  12.9244   77.5827\n",
              "...             ...     ...   ...      ...       ...\n",
              "9236      V V Puram  2019.0   9.0  12.9316    77.562\n",
              "9237      V V Puram  2019.0   9.0  12.9279    77.563\n",
              "9238      V V Puram  2019.0   9.0   12.923    77.549\n",
              "9239      V V Puram  2019.0   9.0  12.9337   77.5569\n",
              "9240      V V Puram  2019.0   9.0  12.9278   77.5439\n",
              "\n",
              "[9238 rows x 5 columns]"
            ]
          },
          "metadata": {},
          "execution_count": 11
        }
      ]
    },
    {
      "cell_type": "code",
      "metadata": {
        "id": "MD8COpAmNSQj"
      },
      "source": [
        "cdf1.dropna(inplace= True)\n",
        "cdf1\n",
        "cdf2=cdf1"
      ],
      "execution_count": null,
      "outputs": []
    },
    {
      "cell_type": "code",
      "source": [
        "cdf2"
      ],
      "metadata": {
        "colab": {
          "base_uri": "https://localhost:8080/",
          "height": 424
        },
        "id": "qnbqhFuaOItV",
        "outputId": "225e1ac0-7362-4e50-c8c2-4351c5d3c92b"
      },
      "execution_count": null,
      "outputs": [
        {
          "output_type": "execute_result",
          "data": {
            "text/html": [
              "<div>\n",
              "<style scoped>\n",
              "    .dataframe tbody tr th:only-of-type {\n",
              "        vertical-align: middle;\n",
              "    }\n",
              "\n",
              "    .dataframe tbody tr th {\n",
              "        vertical-align: top;\n",
              "    }\n",
              "\n",
              "    .dataframe thead th {\n",
              "        text-align: right;\n",
              "    }\n",
              "</style>\n",
              "<table border=\"1\" class=\"dataframe\">\n",
              "  <thead>\n",
              "    <tr style=\"text-align: right;\">\n",
              "      <th></th>\n",
              "      <th>Police Station</th>\n",
              "      <th>Year</th>\n",
              "      <th>Type</th>\n",
              "      <th>Latitude</th>\n",
              "      <th>Longitude</th>\n",
              "    </tr>\n",
              "  </thead>\n",
              "  <tbody>\n",
              "    <tr>\n",
              "      <th>0</th>\n",
              "      <td>Banashankari</td>\n",
              "      <td>2016.0</td>\n",
              "      <td>0.0</td>\n",
              "      <td>12.933</td>\n",
              "      <td>77.5838</td>\n",
              "    </tr>\n",
              "    <tr>\n",
              "      <th>1</th>\n",
              "      <td>Banashankari</td>\n",
              "      <td>2016.0</td>\n",
              "      <td>0.0</td>\n",
              "      <td>12.9304</td>\n",
              "      <td>77.5498</td>\n",
              "    </tr>\n",
              "    <tr>\n",
              "      <th>2</th>\n",
              "      <td>Banashankari</td>\n",
              "      <td>2017.0</td>\n",
              "      <td>0.0</td>\n",
              "      <td>12.9237</td>\n",
              "      <td>77.5818</td>\n",
              "    </tr>\n",
              "    <tr>\n",
              "      <th>3</th>\n",
              "      <td>Banashankari</td>\n",
              "      <td>2017.0</td>\n",
              "      <td>0.0</td>\n",
              "      <td>12.9241</td>\n",
              "      <td>77.5769</td>\n",
              "    </tr>\n",
              "    <tr>\n",
              "      <th>4</th>\n",
              "      <td>Banashankari</td>\n",
              "      <td>2018.0</td>\n",
              "      <td>0.0</td>\n",
              "      <td>12.9244</td>\n",
              "      <td>77.5827</td>\n",
              "    </tr>\n",
              "    <tr>\n",
              "      <th>...</th>\n",
              "      <td>...</td>\n",
              "      <td>...</td>\n",
              "      <td>...</td>\n",
              "      <td>...</td>\n",
              "      <td>...</td>\n",
              "    </tr>\n",
              "    <tr>\n",
              "      <th>9236</th>\n",
              "      <td>V V Puram</td>\n",
              "      <td>2019.0</td>\n",
              "      <td>9.0</td>\n",
              "      <td>12.9316</td>\n",
              "      <td>77.562</td>\n",
              "    </tr>\n",
              "    <tr>\n",
              "      <th>9237</th>\n",
              "      <td>V V Puram</td>\n",
              "      <td>2019.0</td>\n",
              "      <td>9.0</td>\n",
              "      <td>12.9279</td>\n",
              "      <td>77.563</td>\n",
              "    </tr>\n",
              "    <tr>\n",
              "      <th>9238</th>\n",
              "      <td>V V Puram</td>\n",
              "      <td>2019.0</td>\n",
              "      <td>9.0</td>\n",
              "      <td>12.923</td>\n",
              "      <td>77.549</td>\n",
              "    </tr>\n",
              "    <tr>\n",
              "      <th>9239</th>\n",
              "      <td>V V Puram</td>\n",
              "      <td>2019.0</td>\n",
              "      <td>9.0</td>\n",
              "      <td>12.9337</td>\n",
              "      <td>77.5569</td>\n",
              "    </tr>\n",
              "    <tr>\n",
              "      <th>9240</th>\n",
              "      <td>V V Puram</td>\n",
              "      <td>2019.0</td>\n",
              "      <td>9.0</td>\n",
              "      <td>12.9278</td>\n",
              "      <td>77.5439</td>\n",
              "    </tr>\n",
              "  </tbody>\n",
              "</table>\n",
              "<p>5050 rows × 5 columns</p>\n",
              "</div>"
            ],
            "text/plain": [
              "     Police Station    Year  Type Latitude Longitude\n",
              "0      Banashankari  2016.0   0.0   12.933   77.5838\n",
              "1      Banashankari  2016.0   0.0  12.9304   77.5498\n",
              "2      Banashankari  2017.0   0.0  12.9237   77.5818\n",
              "3      Banashankari  2017.0   0.0  12.9241   77.5769\n",
              "4      Banashankari  2018.0   0.0  12.9244   77.5827\n",
              "...             ...     ...   ...      ...       ...\n",
              "9236      V V Puram  2019.0   9.0  12.9316    77.562\n",
              "9237      V V Puram  2019.0   9.0  12.9279    77.563\n",
              "9238      V V Puram  2019.0   9.0   12.923    77.549\n",
              "9239      V V Puram  2019.0   9.0  12.9337   77.5569\n",
              "9240      V V Puram  2019.0   9.0  12.9278   77.5439\n",
              "\n",
              "[5050 rows x 5 columns]"
            ]
          },
          "metadata": {},
          "execution_count": 13
        }
      ]
    },
    {
      "cell_type": "code",
      "source": [
        "cdf2.describe()"
      ],
      "metadata": {
        "colab": {
          "base_uri": "https://localhost:8080/",
          "height": 300
        },
        "id": "WLtawlikS01U",
        "outputId": "4f807897-75cf-4fc2-9ab8-b023147824d4"
      },
      "execution_count": null,
      "outputs": [
        {
          "output_type": "execute_result",
          "data": {
            "text/html": [
              "<div>\n",
              "<style scoped>\n",
              "    .dataframe tbody tr th:only-of-type {\n",
              "        vertical-align: middle;\n",
              "    }\n",
              "\n",
              "    .dataframe tbody tr th {\n",
              "        vertical-align: top;\n",
              "    }\n",
              "\n",
              "    .dataframe thead th {\n",
              "        text-align: right;\n",
              "    }\n",
              "</style>\n",
              "<table border=\"1\" class=\"dataframe\">\n",
              "  <thead>\n",
              "    <tr style=\"text-align: right;\">\n",
              "      <th></th>\n",
              "      <th>Year</th>\n",
              "      <th>Type</th>\n",
              "    </tr>\n",
              "  </thead>\n",
              "  <tbody>\n",
              "    <tr>\n",
              "      <th>count</th>\n",
              "      <td>5050.000000</td>\n",
              "      <td>5050.000000</td>\n",
              "    </tr>\n",
              "    <tr>\n",
              "      <th>mean</th>\n",
              "      <td>2016.897426</td>\n",
              "      <td>5.965941</td>\n",
              "    </tr>\n",
              "    <tr>\n",
              "      <th>std</th>\n",
              "      <td>1.369306</td>\n",
              "      <td>2.820930</td>\n",
              "    </tr>\n",
              "    <tr>\n",
              "      <th>min</th>\n",
              "      <td>2015.000000</td>\n",
              "      <td>0.000000</td>\n",
              "    </tr>\n",
              "    <tr>\n",
              "      <th>25%</th>\n",
              "      <td>2016.000000</td>\n",
              "      <td>5.000000</td>\n",
              "    </tr>\n",
              "    <tr>\n",
              "      <th>50%</th>\n",
              "      <td>2017.000000</td>\n",
              "      <td>6.000000</td>\n",
              "    </tr>\n",
              "    <tr>\n",
              "      <th>75%</th>\n",
              "      <td>2018.000000</td>\n",
              "      <td>9.000000</td>\n",
              "    </tr>\n",
              "    <tr>\n",
              "      <th>max</th>\n",
              "      <td>2019.000000</td>\n",
              "      <td>9.000000</td>\n",
              "    </tr>\n",
              "  </tbody>\n",
              "</table>\n",
              "</div>"
            ],
            "text/plain": [
              "              Year         Type\n",
              "count  5050.000000  5050.000000\n",
              "mean   2016.897426     5.965941\n",
              "std       1.369306     2.820930\n",
              "min    2015.000000     0.000000\n",
              "25%    2016.000000     5.000000\n",
              "50%    2017.000000     6.000000\n",
              "75%    2018.000000     9.000000\n",
              "max    2019.000000     9.000000"
            ]
          },
          "metadata": {},
          "execution_count": 14
        }
      ]
    },
    {
      "cell_type": "code",
      "source": [
        "cdf2['Type'].value_counts() "
      ],
      "metadata": {
        "colab": {
          "base_uri": "https://localhost:8080/"
        },
        "id": "2mMjxuFOXzoZ",
        "outputId": "eb19ecf3-b7fc-461c-f708-d9a32ed309b6"
      },
      "execution_count": null,
      "outputs": [
        {
          "output_type": "execute_result",
          "data": {
            "text/plain": [
              "9.0    1793\n",
              "5.0    1239\n",
              "7.0     550\n",
              "2.0     396\n",
              "3.0     360\n",
              "1.0     322\n",
              "6.0     200\n",
              "0.0     121\n",
              "8.0      69\n",
              "Name: Type, dtype: int64"
            ]
          },
          "metadata": {},
          "execution_count": 15
        }
      ]
    },
    {
      "cell_type": "code",
      "source": [
        "plt.xlabel('crime')\n",
        "plt.ylabel('No.of Count')\n",
        "plt.title('crimes reported')\n",
        "cdf2.Type.value_counts().plot(kind='bar')"
      ],
      "metadata": {
        "colab": {
          "base_uri": "https://localhost:8080/",
          "height": 319
        },
        "id": "cz2vFQW5L1x6",
        "outputId": "b312c9f7-d4aa-4872-f36f-f26dd7cd273c"
      },
      "execution_count": null,
      "outputs": [
        {
          "output_type": "execute_result",
          "data": {
            "text/plain": [
              "<matplotlib.axes._subplots.AxesSubplot at 0x7ffb64a14390>"
            ]
          },
          "metadata": {},
          "execution_count": 16
        },
        {
          "output_type": "display_data",
          "data": {
            "image/png": "[encoded data removed]",
            "text/plain": [
              "<Figure size 432x288 with 1 Axes>"
            ]
          },
          "metadata": {
            "needs_background": "light"
          }
        }
      ]
    },
    {
      "cell_type": "code",
      "source": [
        "cdf2['Year'].value_counts()"
      ],
      "metadata": {
        "colab": {
          "base_uri": "https://localhost:8080/"
        },
        "id": "9MNuNppIaNmZ",
        "outputId": "49cb8cea-3f80-4221-8cc0-9cc42d32672b"
      },
      "execution_count": null,
      "outputs": [
        {
          "output_type": "execute_result",
          "data": {
            "text/plain": [
              "2017.0    1131\n",
              "2015.0    1056\n",
              "2016.0    1040\n",
              "2018.0    1012\n",
              "2019.0     811\n",
              "Name: Year, dtype: int64"
            ]
          },
          "metadata": {},
          "execution_count": 17
        }
      ]
    },
    {
      "cell_type": "code",
      "source": [
        "plt.xlabel('Year')\n",
        "plt.ylabel('No.of Count')\n",
        "plt.title('Highest cases reported in Year')\n",
        "cdf2.Year.value_counts().plot(kind='bar')"
      ],
      "metadata": {
        "colab": {
          "base_uri": "https://localhost:8080/",
          "height": 338
        },
        "id": "-SeS8GG5LlVK",
        "outputId": "411cfd83-273b-4dd9-f7af-30bd5a3d335a"
      },
      "execution_count": null,
      "outputs": [
        {
          "output_type": "execute_result",
          "data": {
            "text/plain": [
              "<matplotlib.axes._subplots.AxesSubplot at 0x7ffb64c9d390>"
            ]
          },
          "metadata": {},
          "execution_count": 18
        },
        {
          "output_type": "display_data",
          "data": {
            "image/png": "[encoded data removed]",
            "text/plain": [
              "<Figure size 432x288 with 1 Axes>"
            ]
          },
          "metadata": {
            "needs_background": "light"
          }
        }
      ]
    },
    {
      "cell_type": "code",
      "source": [
        "cdf2['Police Station'].value_counts()"
      ],
      "metadata": {
        "colab": {
          "base_uri": "https://localhost:8080/"
        },
        "id": "GgXbWc5faTND",
        "outputId": "2ceee611-612e-4200-fe01-7d87829e2687"
      },
      "execution_count": null,
      "outputs": [
        {
          "output_type": "execute_result",
          "data": {
            "text/plain": [
              "Subramanyapura    952\n",
              "Banashankari      642\n",
              "K S Layout        583\n",
              "Basavanagudi      535\n",
              "Konanakunte       468\n",
              "Siddapura         456\n",
              "Thalaghtappura    435\n",
              "V V Puram         359\n",
              "Puttenahalli      356\n",
              "K G Nagar         143\n",
              "Shankarapua        99\n",
              "C K Achuktu        22\n",
              "Name: Police Station, dtype: int64"
            ]
          },
          "metadata": {},
          "execution_count": 19
        }
      ]
    },
    {
      "cell_type": "code",
      "source": [
        "plt.xlabel('Police Station')\n",
        "plt.ylabel('No.of Count')\n",
        "plt.title('Highest cases reported in police station')\n",
        "plt.figure(figsize=(16, 10))\n",
        "plt.plot(cdf2[cdf2.columns[0]].value_counts())\n",
        "plt.show()"
      ],
      "metadata": {
        "colab": {
          "base_uri": "https://localhost:8080/",
          "height": 870
        },
        "id": "-F2fpJ7yaiN-",
        "outputId": "34673f06-3f6e-4d66-c428-ca784d341682"
      },
      "execution_count": null,
      "outputs": [
        {
          "output_type": "display_data",
          "data": {
            "image/png": "[encoded data removed]",
            "text/plain": [
              "<Figure size 432x288 with 1 Axes>"
            ]
          },
          "metadata": {
            "needs_background": "light"
          }
        },
        {
          "output_type": "display_data",
          "data": {
            "image/png": "[encoded data removed]",
            "text/plain": [
              "<Figure size 1152x720 with 1 Axes>"
            ]
          },
          "metadata": {
            "needs_background": "light"
          }
        }
      ]
    }
  ]
}